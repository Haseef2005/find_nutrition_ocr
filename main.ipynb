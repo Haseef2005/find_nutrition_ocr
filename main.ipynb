{
 "cells": [
  {
   "cell_type": "code",
   "execution_count": 15,
   "metadata": {},
   "outputs": [
    {
     "name": "stderr",
     "output_type": "stream",
     "text": [
      "c:\\Users\\phumi\\anaconda3\\envs\\ocr\\Lib\\site-packages\\ultralytics\\nn\\tasks.py:340: FutureWarning: You are using `torch.load` with `weights_only=False` (the current default value), which uses the default pickle module implicitly. It is possible to construct malicious pickle data which will execute arbitrary code during unpickling (See https://github.com/pytorch/pytorch/blob/main/SECURITY.md#untrusted-models for more details). In a future release, the default value for `weights_only` will be flipped to `True`. This limits the functions that could be executed during unpickling. Arbitrary objects will no longer be allowed to be loaded via this mode unless they are explicitly allowlisted by the user via `torch.serialization.add_safe_globals`. We recommend you start setting `weights_only=True` for any use case where you don't have full control of the loaded file. Please open an issue on GitHub for any issues related to this experimental feature.\n",
      "  return torch.load(file, map_location='cpu'), file  # load\n"
     ]
    }
   ],
   "source": [
    "from PIL import Image\n",
    "import pytesseract\n",
    "from ultralyticsplus import YOLO\n",
    "import torch\n",
    "\n",
    "pytesseract.pytesseract.tesseract_cmd = r'C:\\Program Files\\Tesseract-OCR\\tesseract.exe'\n",
    "\n",
    "# Load the YOLO model for table detection\n",
    "model = YOLO('foduucom/table-detection-and-extraction')\n",
    "\n",
    "class FindNutrition:\n",
    "    def __init__(self, image, text: list):\n",
    "        self.image = image\n",
    "        self.text = text\n",
    "\n",
    "    def detect_tables(self):\n",
    "        # Perform table detection\n",
    "        results = model.predict(self.image)\n",
    "        return results[0].boxes\n",
    "\n",
    "    def crop_table(self, box):\n",
    "        # Extract the bounding box coordinates and convert to integers\n",
    "        left, top, right, bottom = map(int, box.xyxy[0])\n",
    "        return self.image.crop((left, top, right, bottom))\n",
    "\n",
    "    def ocr(self, image):\n",
    "        data = pytesseract.image_to_data(image, output_type=pytesseract.Output.DICT)\n",
    "        result = []\n",
    "        for i, word in enumerate(data['text']):\n",
    "            if word.strip():  # Filter out empty results\n",
    "                result.append({\n",
    "                    \"word\": word,\n",
    "                    \"confidence\": data['conf'][i],\n",
    "                    \"bounding_box\": {\n",
    "                        \"left\": data['left'][i],\n",
    "                        \"top\": data['top'][i],\n",
    "                        \"width\": data['width'][i],\n",
    "                        \"height\": data['height'][i]\n",
    "                    }\n",
    "                })\n",
    "        return result\n",
    "\n",
    "    def plain_text_ocr(self, image):\n",
    "        return pytesseract.image_to_string(image)\n",
    "\n",
    "    def find_text_ocr(self, image):\n",
    "        found_text = []\n",
    "        data = pytesseract.image_to_data(image, output_type=pytesseract.Output.DICT)\n",
    "        for i, word in enumerate(data['text']):\n",
    "            if word.strip():  # Filter out empty results\n",
    "                for j in self.text:\n",
    "                    if j.lower() in word.lower():\n",
    "                        found_text.append(word)\n",
    "        return found_text"
   ]
  },
  {
   "cell_type": "code",
   "execution_count": 18,
   "metadata": {},
   "outputs": [
    {
     "name": "stderr",
     "output_type": "stream",
     "text": [
      "\n",
      "0: 640x512 (no detections), 158.6ms\n",
      "Speed: 3.0ms preprocess, 158.6ms inference, 0.0ms postprocess per image at shape (1, 3, 640, 640)\n"
     ]
    },
    {
     "name": "stdout",
     "output_type": "stream",
     "text": [
      "{'fat', 'sugars]', 'calories', 'sugars'}\n"
     ]
    }
   ],
   "source": [
    "# Example usage in code:\n",
    "image = Image.open('./images/n1.jpg')\n",
    "nutrition_finder = FindNutrition(image, ['calories', 'fat', 'sugar'])\n",
    "tables = nutrition_finder.detect_tables()\n",
    "if not tables:\n",
    "    image_to_use = image\n",
    "    ocr_results = nutrition_finder.find_text_ocr(image_to_use)\n",
    "    ocr_results = [l.lower() for l in ocr_results]\n",
    "    results = set(ocr_results) \n",
    "    print(results)\n",
    "else:\n",
    "    for table in tables:\n",
    "        cropped_table = nutrition_finder.crop_table(table)\n",
    "        ocr_results = nutrition_finder.find_text_ocr(cropped_table)\n",
    "        ocr_results = [l.lower() for l in ocr_results]\n",
    "        results = set(ocr_results)\n",
    "        print(results)"
   ]
  }
 ],
 "metadata": {
  "kernelspec": {
   "display_name": "ocr",
   "language": "python",
   "name": "python3"
  },
  "language_info": {
   "codemirror_mode": {
    "name": "ipython",
    "version": 3
   },
   "file_extension": ".py",
   "mimetype": "text/x-python",
   "name": "python",
   "nbconvert_exporter": "python",
   "pygments_lexer": "ipython3",
   "version": "3.12.8"
  }
 },
 "nbformat": 4,
 "nbformat_minor": 2
}
